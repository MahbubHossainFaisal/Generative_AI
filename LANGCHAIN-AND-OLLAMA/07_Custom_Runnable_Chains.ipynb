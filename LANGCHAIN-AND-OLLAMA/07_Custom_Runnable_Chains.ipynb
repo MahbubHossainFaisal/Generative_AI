{
 "cells": [
  {
   "cell_type": "code",
   "execution_count": 6,
   "metadata": {},
   "outputs": [],
   "source": [
    "from langchain_ollama import ChatOllama\n",
    "from langchain_core.prompts import (\n",
    "    SystemMessagePromptTemplate,\n",
    "    HumanMessagePromptTemplate,\n",
    "    ChatPromptTemplate\n",
    ")\n",
    "\n",
    "from langchain_core.output_parsers import StrOutputParser"
   ]
  },
  {
   "cell_type": "code",
   "execution_count": 7,
   "metadata": {},
   "outputs": [],
   "source": [
    "base_url = \"http://localhost:11434\"\n",
    "model = 'llama3.2:1b'\n",
    "\n",
    "llm = ChatOllama(base_url=base_url,model=model)"
   ]
  },
  {
   "cell_type": "code",
   "execution_count": 27,
   "metadata": {},
   "outputs": [],
   "source": [
    "def textCount(text):\n",
    "    print(text)\n",
    "    return len(text)\n",
    "\n",
    "\n",
    "def wordCount(text):\n",
    "    print(text)\n",
    "    return len(text.split(' '))"
   ]
  },
  {
   "cell_type": "code",
   "execution_count": 28,
   "metadata": {},
   "outputs": [],
   "source": [
    "prompt = 'Provide details on these inputs: {input1} and {input2}'\n",
    "\n",
    "template = ChatPromptTemplate.from_template(prompt)"
   ]
  },
  {
   "cell_type": "code",
   "execution_count": 29,
   "metadata": {},
   "outputs": [],
   "source": [
    "from langchain_core.runnables import RunnableLambda,RunnablePassthrough"
   ]
  },
  {
   "cell_type": "code",
   "execution_count": 30,
   "metadata": {},
   "outputs": [],
   "source": [
    "chain = template | llm | StrOutputParser() | {'textCount': RunnableLambda(textCount),\n",
    "'wordCount': RunnableLambda(wordCount),\n",
    "'output':RunnablePassthrough()\n",
    "} \n",
    "#chain"
   ]
  },
  {
   "cell_type": "code",
   "execution_count": 32,
   "metadata": {},
   "outputs": [
    {
     "name": "stdout",
     "output_type": "stream",
     "text": [
      "I can provide information on those statements.\n",
      "\n",
      "**Earth being round:**\n",
      "Yes, it is well-established scientific fact that the Earth is approximately spherical in shape. This is based on a large body of observational evidence from various fields of study, including astronomy, geography, and oceanography. The Earth's surface follows the curvature of its rotation and orbit around the Sun, which can be observed through:\n",
      "\n",
      "1. Ships disappearing over the horizon: As a ship sails away from an observer on the shore, it will eventually disappear from view as it sinks below the horizon due to the Earth's curvature.\n",
      "2. Satellite imagery: High-resolution satellite images of the Earth provide clear visual evidence of its spherical shape.\n",
      "3. GPS technology: The Global Positioning System (GPS) relies on precise knowledge of the Earth's shape and size to provide accurate location and time information.\n",
      "\n",
      "The evidence from these sources, combined with mathematical calculations based on the Earth's orbit and rotation, confirms that the planet is indeed round in shape.\n",
      "\n",
      "**Sun being a star:**\n",
      "Yes, the Sun is a star. It is one of the eight planets in our solar system and is classified as an G-type main-sequence star (also known as a G2V type). Here are some key characteristics of stars:\n",
      "\n",
      "1. Definition: A star is a massive, luminous ball of gas that is held together by its own gravity.\n",
      "2. Composition: Stars are primarily composed of hydrogen and helium gases, with small amounts of heavier elements such as oxygen, carbon, and iron.\n",
      "3. Size: The Sun is about 109 times larger in diameter than the Earth's Moon, making it a massive object compared to our planet.\n",
      "4. Temperature: The surface temperature of the Sun is about 5,500 degrees Celsius (10,000 degrees Fahrenheit), while its core is approximately 15,000,000 degrees Celsius (27,000,000 degrees Fahrenheit).\n",
      "5. Life cycle: Stars like the Sun are born from giant molecular clouds and go through various stages of evolution, including main sequence, red giant, white dwarf, and eventually supernova.\n",
      "\n",
      "The fact that the Sun is a star is well-established based on observations and experiments in astronomy and physics.\n",
      "\n",
      "It's worth noting that there may be some confusion or misinformation about these statements. If you have any specific context or source that led you to question Earth being round or the Sun being a star, I'd be happy to help clarify the information!I can provide information on those statements.\n",
      "\n",
      "**Earth being round:**\n",
      "Yes, it is well-established scientific fact that the Earth is approximately spherical in shape. This is based on a large body of observational evidence from various fields of study, including astronomy, geography, and oceanography. The Earth's surface follows the curvature of its rotation and orbit around the Sun, which can be observed through:\n",
      "\n",
      "1. Ships disappearing over the horizon: As a ship sails away from an observer on the shore, it will eventually disappear from view as it sinks below the horizon due to the Earth's curvature.\n",
      "2. Satellite imagery: High-resolution satellite images of the Earth provide clear visual evidence of its spherical shape.\n",
      "3. GPS technology: The Global Positioning System (GPS) relies on precise knowledge of the Earth's shape and size to provide accurate location and time information.\n",
      "\n",
      "The evidence from these sources, combined with mathematical calculations based on the Earth's orbit and rotation, confirms that the planet is indeed round in shape.\n",
      "\n",
      "**Sun being a star:**\n",
      "Yes, the Sun is a star. It is one of the eight planets in our solar system and is classified as an G-type main-sequence star (also known as a G2V type). Here are some key characteristics of stars:\n",
      "\n",
      "1. Definition: A star is a massive, luminous ball of gas that is held together by its own gravity.\n",
      "2. Composition: Stars are primarily composed of hydrogen and helium gases, with small amounts of heavier elements such as oxygen, carbon, and iron.\n",
      "3. Size: The Sun is about 109 times larger in diameter than the Earth's Moon, making it a massive object compared to our planet.\n",
      "4. Temperature: The surface temperature of the Sun is about 5,500 degrees Celsius (10,000 degrees Fahrenheit), while its core is approximately 15,000,000 degrees Celsius (27,000,000 degrees Fahrenheit).\n",
      "5. Life cycle: Stars like the Sun are born from giant molecular clouds and go through various stages of evolution, including main sequence, red giant, white dwarf, and eventually supernova.\n",
      "\n",
      "The fact that the Sun is a star is well-established based on observations and experiments in astronomy and physics.\n",
      "\n",
      "It's worth noting that there may be some confusion or misinformation about these statements. If you have any specific context or source that led you to question Earth being round or the Sun being a star, I'd be happy to help clarify the information!\n",
      "\n",
      "{'textCount': 2419, 'wordCount': 377, 'output': \"I can provide information on those statements.\\n\\n**Earth being round:**\\nYes, it is well-established scientific fact that the Earth is approximately spherical in shape. This is based on a large body of observational evidence from various fields of study, including astronomy, geography, and oceanography. The Earth's surface follows the curvature of its rotation and orbit around the Sun, which can be observed through:\\n\\n1. Ships disappearing over the horizon: As a ship sails away from an observer on the shore, it will eventually disappear from view as it sinks below the horizon due to the Earth's curvature.\\n2. Satellite imagery: High-resolution satellite images of the Earth provide clear visual evidence of its spherical shape.\\n3. GPS technology: The Global Positioning System (GPS) relies on precise knowledge of the Earth's shape and size to provide accurate location and time information.\\n\\nThe evidence from these sources, combined with mathematical calculations based on the Earth's orbit and rotation, confirms that the planet is indeed round in shape.\\n\\n**Sun being a star:**\\nYes, the Sun is a star. It is one of the eight planets in our solar system and is classified as an G-type main-sequence star (also known as a G2V type). Here are some key characteristics of stars:\\n\\n1. Definition: A star is a massive, luminous ball of gas that is held together by its own gravity.\\n2. Composition: Stars are primarily composed of hydrogen and helium gases, with small amounts of heavier elements such as oxygen, carbon, and iron.\\n3. Size: The Sun is about 109 times larger in diameter than the Earth's Moon, making it a massive object compared to our planet.\\n4. Temperature: The surface temperature of the Sun is about 5,500 degrees Celsius (10,000 degrees Fahrenheit), while its core is approximately 15,000,000 degrees Celsius (27,000,000 degrees Fahrenheit).\\n5. Life cycle: Stars like the Sun are born from giant molecular clouds and go through various stages of evolution, including main sequence, red giant, white dwarf, and eventually supernova.\\n\\nThe fact that the Sun is a star is well-established based on observations and experiments in astronomy and physics.\\n\\nIt's worth noting that there may be some confusion or misinformation about these statements. If you have any specific context or source that led you to question Earth being round or the Sun being a star, I'd be happy to help clarify the information!\"}\n"
     ]
    }
   ],
   "source": [
    "inputs = {\n",
    "    'input1': 'Earth is round.',\n",
    "    'input2': 'Sun is a star.'\n",
    "}\n",
    "\n",
    "output = chain.invoke(inputs)\n",
    "print(output)"
   ]
  },
  {
   "cell_type": "code",
   "execution_count": null,
   "metadata": {},
   "outputs": [],
   "source": []
  }
 ],
 "metadata": {
  "kernelspec": {
   "display_name": "ml",
   "language": "python",
   "name": "python3"
  },
  "language_info": {
   "codemirror_mode": {
    "name": "ipython",
    "version": 3
   },
   "file_extension": ".py",
   "mimetype": "text/x-python",
   "name": "python",
   "nbconvert_exporter": "python",
   "pygments_lexer": "ipython3",
   "version": "3.12.4"
  }
 },
 "nbformat": 4,
 "nbformat_minor": 2
}
