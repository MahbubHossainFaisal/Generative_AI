{
 "cells": [
  {
   "cell_type": "code",
   "execution_count": null,
   "metadata": {},
   "outputs": [],
   "source": [
    "from langchain_ollama import ChatOllama\n",
    "from langchain_core.messages import SystemMessage, HumanMessage"
   ]
  },
  {
   "cell_type": "code",
   "execution_count": 3,
   "metadata": {},
   "outputs": [],
   "source": [
    "base_url = \"http://localhost:11434\"\n",
    "model = 'llama3.2:1b'\n",
    "\n",
    "llm = ChatOllama(base_url=base_url,model=model)"
   ]
  },
  {
   "cell_type": "code",
   "execution_count": null,
   "metadata": {},
   "outputs": [],
   "source": [
    "system_message = SystemMessage('You are a DC comics and movies expert. When user asks about Batman, you give 3 most important information related to Batman.')\n",
    "user_message = HumanMessage('Tell me about Batman')\n",
    "\n",
    "messages = [system_message, user_message]"
   ]
  },
  {
   "cell_type": "code",
   "execution_count": 9,
   "metadata": {},
   "outputs": [
    {
     "name": "stdout",
     "output_type": "stream",
     "text": [
      "Here are the 5 most important points about Batman:\n",
      "\n",
      "**1. Creation and Inspiration**: Batman was created by writer Bill Finger and artist Bob Kane in Detective Comics #27 in 1939. However, the character's concept and iconic design were heavily influenced by the character of Dracula, as depicted in the 1932 film \"Dracula.\" The name \"Batman\" is derived from the Latin word \"bonumen,\" meaning \"good man.\"\n",
      "\n",
      "**2. Personality and Philosophy**: Batman is a vigilante who wears a bat-shaped costume to symbolize his nocturnal lifestyle and his commitment to justice. He is also known for his intelligence, strategic thinking, and athleticism. As a character, Batman represents the \"dark knight\" archetype, embodying virtues such as selflessness, discipline, and determination.\n",
      "\n",
      "**3. Powers and Abilities**: While not superhuman in the classical sense, Batman possesses a range of powers and abilities that allow him to fight crime and protect Gotham City. These include:\n",
      "* Peak human physical conditioning\n",
      "* Expertise in martial arts, detective work, and acrobatics\n",
      "* Access to advanced technology, including his trusty Batmobile and grappling hook\n",
      "* Enhanced senses through the use of gadgets and tools\n",
      "\n",
      "**4. Supporting Characters**: Batman has a vast array of supporting characters who help him in his quest for justice. Some notable examples include:\n",
      "* Robin (Dick Grayson, Jason Todd, Tim Drake, Damian Wayne, and others): Batman's trusted sidekicks, each with their own unique skills and personalities.\n",
      "* Alfred Pennyworth: Batman's loyal butler and confidant, who provides support and guidance throughout the character's adventures.\n",
      "* Commissioner James Gordon: A dedicated and honest law enforcement official who works closely with Batman to keep Gotham City safe.\n",
      "\n",
      "**5. Impact on Popular Culture**: Batman has had a profound impact on popular culture, inspiring countless adaptations, parodies, and references in film, television, literature, and music. From the 1960s TV series \"Batman\" starring Adam West to the modern-day movies like \"The Dark Knight\" (2008) and \"Batman v Superman: Dawn of Justice\" (2016), Batman remains one of the most beloved and enduring superheroes in the pantheon of comic book characters.\n",
      "\n",
      "These are just a few key points about Batman, but I hope this gives you a good overview of this iconic character!\n"
     ]
    }
   ],
   "source": [
    "response = llm.invoke(messages)\n",
    "print(response.content)"
   ]
  },
  {
   "cell_type": "markdown",
   "metadata": {},
   "source": [
    "#### Prompt Template"
   ]
  },
  {
   "cell_type": "code",
   "execution_count": 11,
   "metadata": {},
   "outputs": [],
   "source": [
    "from langchain_core.prompts import (\n",
    "    SystemMessagePromptTemplate,\n",
    "    HumanMessagePromptTemplate,\n",
    "    PromptTemplate,\n",
    "    ChatPromptTemplate\n",
    ")"
   ]
  },
  {
   "cell_type": "code",
   "execution_count": 28,
   "metadata": {},
   "outputs": [],
   "source": [
    "system_message = SystemMessagePromptTemplate.from_template('You are a {comic_name} comics and movies expert. When user asks about {persona}, you give {point_num} most important information related to {persona}.')\n",
    "user_message = HumanMessagePromptTemplate.from_template('Tell me about {persona}')\n"
   ]
  },
  {
   "cell_type": "code",
   "execution_count": 29,
   "metadata": {},
   "outputs": [
    {
     "data": {
      "text/plain": [
       "SystemMessagePromptTemplate(prompt=PromptTemplate(input_variables=['comic_name', 'persona', 'point_num'], input_types={}, partial_variables={}, template='You are a {comic_name} comics and movies expert. When user asks about {persona}, you give {point_num} most important information related to {persona}.'), additional_kwargs={})"
      ]
     },
     "execution_count": 29,
     "metadata": {},
     "output_type": "execute_result"
    }
   ],
   "source": [
    "system_message"
   ]
  },
  {
   "cell_type": "code",
   "execution_count": 30,
   "metadata": {},
   "outputs": [],
   "source": [
    "comic_name = 'Marvel'\n",
    "persona = 'Iron Man'\n",
    "point_num = 3"
   ]
  },
  {
   "cell_type": "code",
   "execution_count": 44,
   "metadata": {},
   "outputs": [],
   "source": [
    "\n",
    "messages = [system_message, user_message]"
   ]
  },
  {
   "cell_type": "code",
   "execution_count": 45,
   "metadata": {},
   "outputs": [],
   "source": [
    "template = ChatPromptTemplate(messages)"
   ]
  },
  {
   "cell_type": "code",
   "execution_count": 46,
   "metadata": {},
   "outputs": [
    {
     "data": {
      "text/plain": [
       "ChatPromptTemplate(input_variables=['comic_name', 'persona', 'point_num'], input_types={}, partial_variables={}, messages=[SystemMessagePromptTemplate(prompt=PromptTemplate(input_variables=['comic_name', 'persona', 'point_num'], input_types={}, partial_variables={}, template='You are a {comic_name} comics and movies expert. When user asks about {persona}, you give {point_num} most important information related to {persona}.'), additional_kwargs={}), HumanMessagePromptTemplate(prompt=PromptTemplate(input_variables=['persona'], input_types={}, partial_variables={}, template='Tell me about {persona}'), additional_kwargs={})])"
      ]
     },
     "execution_count": 46,
     "metadata": {},
     "output_type": "execute_result"
    }
   ],
   "source": [
    "template"
   ]
  },
  {
   "cell_type": "code",
   "execution_count": 47,
   "metadata": {},
   "outputs": [
    {
     "name": "stdout",
     "output_type": "stream",
     "text": [
      "Here are three of the most important things you need to know about Iron Man:\n",
      "\n",
      "1. **Origin Story**: Tony Stark, aka Iron Man, is a billionaire inventor and business magnate whose secret identity is that of a superhero. He was born in Hell's Kitchen, New York City, to Howard Stark, a brilliant engineer and industrialist, and Maria Stark. After his father's death, Tony used his intelligence, wealth, and resources to create a powerful suit of armor that he uses to fight crime and protect the world as Iron Man.\n",
      "\n",
      "2. **The Iron Man Suit**: The Iron Man suit is one of the most iconic and advanced technologies in the Marvel universe. It's a powered exoskeleton made of a nearly indestructible alloy, which allows Tony to fly, shoot repulsor beams from his hands, and generate energy for flight and combat. The suit also features AI systems like JARVIS (Just A Rather Very Intelligent System) and FRIDAY (Frigid Refrigeration, Air Distribution, and Ventilation), as well as a range of other advanced technologies.\n",
      "\n",
      "3. **The Avengers and the Marvel Cinematic Universe**: Iron Man is one of the founding members of the Avengers team, a group of superheroes who work together to protect the world from threats too great for any one hero to face alone. The first film featuring Iron Man was released in 2008, directed by Jon Favreau and starring Robert Downey Jr. as Tony Stark/Iron Man. Since then, the character has appeared in multiple Marvel Cinematic Universe (MCU) films, including Iron Man, The Avengers, Iron Man 2, Thor: Iron Man, Captain America: Civil War, Spider-Man: Homecoming, Avengers: Infinity War and Avengers: Endgame.\n"
     ]
    }
   ],
   "source": [
    "question = template.invoke({'comic_name':comic_name,'persona':persona,'point_num':point_num})\n",
    "\n",
    "response = llm.invoke(question)\n",
    "print(response.content)"
   ]
  },
  {
   "cell_type": "code",
   "execution_count": null,
   "metadata": {},
   "outputs": [],
   "source": []
  }
 ],
 "metadata": {
  "kernelspec": {
   "display_name": "ml",
   "language": "python",
   "name": "python3"
  },
  "language_info": {
   "codemirror_mode": {
    "name": "ipython",
    "version": 3
   },
   "file_extension": ".py",
   "mimetype": "text/x-python",
   "name": "python",
   "nbconvert_exporter": "python",
   "pygments_lexer": "ipython3",
   "version": "3.12.4"
  }
 },
 "nbformat": 4,
 "nbformat_minor": 2
}
