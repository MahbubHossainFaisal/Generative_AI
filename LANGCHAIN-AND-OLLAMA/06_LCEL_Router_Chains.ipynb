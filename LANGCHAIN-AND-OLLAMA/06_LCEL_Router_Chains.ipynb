{
 "cells": [
  {
   "cell_type": "code",
   "execution_count": 5,
   "metadata": {},
   "outputs": [],
   "source": [
    "from langchain_core.prompts import (\n",
    "    SystemMessagePromptTemplate,\n",
    "    HumanMessagePromptTemplate,\n",
    "    ChatPromptTemplate\n",
    ")\n",
    "\n",
    "from langchain_core.output_parsers import StrOutputParser"
   ]
  },
  {
   "cell_type": "code",
   "execution_count": 6,
   "metadata": {},
   "outputs": [],
   "source": [
    "base_url = \"http://localhost:11434\"\n",
    "model = 'llama3.2:1b'\n",
    "\n",
    "llm = ChatOllama(base_url=base_url,model=model)"
   ]
  },
  {
   "cell_type": "code",
   "execution_count": 103,
   "metadata": {},
   "outputs": [],
   "source": [
    "prompt = '''You have to analyse user reviews and based on that you have to\n",
    "decide whether the review is \"Positive\" or \"Negative\". Please use only one word in your answer. \n",
    "\n",
    "user review: {review}\n",
    "classification: '''\n",
    "\n",
    "review = ChatPromptTemplate.from_template(prompt)\n",
    "\n",
    "review_chain = review | llm | StrOutputParser()\n",
    "\n",
    "\n",
    "\n",
    "#review_chain.invoke({'review':\"This course is really bad\"})"
   ]
  },
  {
   "cell_type": "code",
   "execution_count": 123,
   "metadata": {},
   "outputs": [],
   "source": [
    "# Positive chain\n",
    "\n",
    "pos_prompt = '''You are an expert of giving reply on positive reviews.\n",
    "Also You are a 'Raw Output Bot'. \n",
    "Your job is to return ONLY the exact requested output, formatted cleanly, with zero additions.\n",
    "Please thank the reviewer and ask them to follow our social media pages to get the latest information. Complete your response in between 3 sentences.\n",
    "Provide only the direct answer without any introductory phrases.\n",
    "Here is the review below:\n",
    "\n",
    "Review:{review}'''\n",
    "\n",
    "\n",
    "pos_review_reply = ChatPromptTemplate.from_template(pos_prompt)\n",
    "\n",
    "pos_review_reply_chain = pos_review_reply | llm | StrOutputParser()"
   ]
  },
  {
   "cell_type": "code",
   "execution_count": 137,
   "metadata": {},
   "outputs": [],
   "source": [
    "# Negative chain\n",
    "\n",
    "neg_prompt = '''You are an expert in replying on negative user reviews.\n",
    "Also You are a 'Raw Output Bot' \n",
    "Your job is to return ONLY the exact requested output, formatted cleanly, with zero additions.\n",
    "Please say sorry for the inconvenience happend. Also request the user to send a mail on - mahbubhossain@gmail.com to investigate the issue.\n",
    "\n",
    "Review:{review}'''\n",
    "\n",
    "\n",
    "neg_review_reply = ChatPromptTemplate.from_template(neg_prompt)\n",
    "\n",
    "neg_review_reply_chain = neg_review_reply | llm | StrOutputParser()"
   ]
  },
  {
   "cell_type": "code",
   "execution_count": 138,
   "metadata": {},
   "outputs": [],
   "source": [
    "def route(info):\n",
    "    if 'positive' in info['sentiment'].lower():\n",
    "        return pos_review_reply_chain\n",
    "    else:\n",
    "        return neg_review_reply_chain"
   ]
  },
  {
   "cell_type": "code",
   "execution_count": 139,
   "metadata": {},
   "outputs": [],
   "source": [
    "from langchain_core.runnables import RunnableLambda"
   ]
  },
  {
   "cell_type": "code",
   "execution_count": 140,
   "metadata": {},
   "outputs": [],
   "source": [
    "full_chain = {'sentiment':review_chain, 'review': lambda x:x['review'] } |  RunnableLambda(route)"
   ]
  },
  {
   "cell_type": "markdown",
   "metadata": {},
   "source": []
  },
  {
   "cell_type": "code",
   "execution_count": 141,
   "metadata": {},
   "outputs": [
    {
     "name": "stdout",
     "output_type": "stream",
     "text": [
      "Sorry for the inconvenience happened. Please contact me at mahbubhossain@gmail.com to investigate the issue.\n"
     ]
    }
   ],
   "source": [
    "pos_review_message = 'I really loved the way this course is taught.'\n",
    "neg_review_message = 'This course is very bad. I did not like many aspects of this course'\n",
    "\n",
    "output = full_chain.invoke({'review':neg_review_message})\n",
    "print(output)"
   ]
  },
  {
   "cell_type": "code",
   "execution_count": null,
   "metadata": {},
   "outputs": [],
   "source": []
  },
  {
   "cell_type": "code",
   "execution_count": null,
   "metadata": {},
   "outputs": [],
   "source": []
  }
 ],
 "metadata": {
  "kernelspec": {
   "display_name": "ml",
   "language": "python",
   "name": "python3"
  },
  "language_info": {
   "codemirror_mode": {
    "name": "ipython",
    "version": 3
   },
   "file_extension": ".py",
   "mimetype": "text/x-python",
   "name": "python",
   "nbconvert_exporter": "python",
   "pygments_lexer": "ipython3",
   "version": "3.12.4"
  }
 },
 "nbformat": 4,
 "nbformat_minor": 2
}
