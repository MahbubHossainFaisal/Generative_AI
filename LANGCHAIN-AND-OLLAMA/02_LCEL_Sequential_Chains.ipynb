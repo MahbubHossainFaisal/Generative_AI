{
 "cells": [
  {
   "cell_type": "code",
   "execution_count": 2,
   "metadata": {},
   "outputs": [],
   "source": [
    "from langchain_ollama import ChatOllama\n",
    "\n",
    "from langchain_core.prompts import (\n",
    "    SystemMessagePromptTemplate,\n",
    "    HumanMessagePromptTemplate,\n",
    "    PromptTemplate,\n",
    "    ChatPromptTemplate\n",
    ")"
   ]
  },
  {
   "cell_type": "code",
   "execution_count": 3,
   "metadata": {},
   "outputs": [],
   "source": [
    "base_url = \"http://localhost:11434\"\n",
    "model = 'llama3.2:1b'\n",
    "\n",
    "llm = ChatOllama(base_url=base_url,model=model)"
   ]
  },
  {
   "cell_type": "code",
   "execution_count": 17,
   "metadata": {},
   "outputs": [],
   "source": [
    "system_message = SystemMessagePromptTemplate.from_template('You are a {comic_name} comics and movies expert. When user asks about {persona}, you give {point_num} most important information related to {persona}.')\n",
    "user_message = HumanMessagePromptTemplate.from_template('Tell me about {persona}')\n",
    "\n",
    "messages = [system_message, user_message]"
   ]
  },
  {
   "cell_type": "code",
   "execution_count": 18,
   "metadata": {},
   "outputs": [],
   "source": [
    "comic_name = 'Marvel'\n",
    "persona = 'Iron Man'\n",
    "point_num = 3"
   ]
  },
  {
   "cell_type": "code",
   "execution_count": 19,
   "metadata": {},
   "outputs": [],
   "source": [
    "template = ChatPromptTemplate(messages)"
   ]
  },
  {
   "cell_type": "code",
   "execution_count": 20,
   "metadata": {},
   "outputs": [],
   "source": [
    "chain = template | llm"
   ]
  },
  {
   "cell_type": "code",
   "execution_count": 21,
   "metadata": {},
   "outputs": [
    {
     "data": {
      "text/plain": [
       "ChatPromptTemplate(input_variables=['comic_name', 'persona', 'point_num'], input_types={}, partial_variables={}, messages=[SystemMessagePromptTemplate(prompt=PromptTemplate(input_variables=['comic_name', 'persona', 'point_num'], input_types={}, partial_variables={}, template='You are a {comic_name} comics and movies expert. When user asks about {persona}, you give {point_num} most important information related to {persona}.'), additional_kwargs={}), HumanMessagePromptTemplate(prompt=PromptTemplate(input_variables=['persona'], input_types={}, partial_variables={}, template='Tell me about {persona}'), additional_kwargs={})])\n",
       "| ChatOllama(model='llama3.2:1b', base_url='http://localhost:11434')"
      ]
     },
     "execution_count": 21,
     "metadata": {},
     "output_type": "execute_result"
    }
   ],
   "source": [
    "chain"
   ]
  },
  {
   "cell_type": "code",
   "execution_count": 22,
   "metadata": {},
   "outputs": [
    {
     "name": "stdout",
     "output_type": "stream",
     "text": [
      "Here are three of the most important things you need to know about Iron Man:\n",
      "\n",
      "1. **Who is Iron Man?**: Tony Stark, aka Iron Man, is a billionaire inventor and entrepreneur who created a powered exoskeleton suit that allows him to fly and fight crime as a superhero. He uses this suit, which he calls the Iron Man armor, to protect the world from various threats.\n",
      "\n",
      "2. **The Origin Story**: Tony Stark was born in a wealthy family, but his parents were murdered when he was just a teenager. Feeling guilty and responsible for their deaths, Tony decided to use his intelligence, wealth, and resources to create a suit that would give him the power to fight crime and protect others. He designed and built the Iron Man armor, which he first wore in 2008.\n",
      "\n",
      "3. **The Marvel Cinematic Universe (MCU) Connection**: The Iron Man character has been closely tied to other Marvel heroes in the MCU. Robert Downey Jr.'s portrayal of Tony Stark/Iron Man was iconic in the 2008 movie \"Iron Man,\" and subsequent movies, such as \"The Avengers\" (2012), \"Iron Man 3\" (2013), and \"Avengers: Endgame\" (2019), have seen Iron Man team up with other superheroes to save the world. The character has also been a central figure in Marvel's \"Phase 1\" storyline, which introduced many other key characters.\n"
     ]
    }
   ],
   "source": [
    "response = chain.invoke({'comic_name':comic_name,'persona':persona,'point_num':point_num})\n",
    "\n",
    "print(response.content)"
   ]
  },
  {
   "cell_type": "code",
   "execution_count": null,
   "metadata": {},
   "outputs": [],
   "source": []
  }
 ],
 "metadata": {
  "kernelspec": {
   "display_name": "ml",
   "language": "python",
   "name": "python3"
  },
  "language_info": {
   "codemirror_mode": {
    "name": "ipython",
    "version": 3
   },
   "file_extension": ".py",
   "mimetype": "text/x-python",
   "name": "python",
   "nbconvert_exporter": "python",
   "pygments_lexer": "ipython3",
   "version": "3.12.4"
  }
 },
 "nbformat": 4,
 "nbformat_minor": 2
}
