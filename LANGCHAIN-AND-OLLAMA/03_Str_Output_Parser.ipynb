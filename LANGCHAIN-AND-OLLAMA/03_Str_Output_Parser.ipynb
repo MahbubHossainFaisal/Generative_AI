{
 "cells": [
  {
   "cell_type": "code",
   "execution_count": 8,
   "metadata": {},
   "outputs": [],
   "source": [
    "from langchain_ollama import ChatOllama\n",
    "\n",
    "from langchain_core.prompts import (\n",
    "    SystemMessagePromptTemplate,\n",
    "    HumanMessagePromptTemplate,\n",
    "    ChatPromptTemplate\n",
    ")\n",
    "\n",
    "from langchain_core.output_parsers import StrOutputParser"
   ]
  },
  {
   "cell_type": "code",
   "execution_count": 9,
   "metadata": {},
   "outputs": [],
   "source": [
    "base_url = \"http://localhost:11434\"\n",
    "model = 'llama3.2:1b'\n",
    "\n",
    "llm = ChatOllama(base_url=base_url,model=model)"
   ]
  },
  {
   "cell_type": "code",
   "execution_count": 10,
   "metadata": {},
   "outputs": [],
   "source": [
    "system_message = SystemMessagePromptTemplate.from_template('You are a {comic_name} comics and movies expert. When user asks about {persona}, you give {point_num} most important information related to {persona}.')\n",
    "user_message = HumanMessagePromptTemplate.from_template('Tell me about {persona}')\n",
    "\n",
    "messages = [system_message, user_message]"
   ]
  },
  {
   "cell_type": "code",
   "execution_count": 11,
   "metadata": {},
   "outputs": [],
   "source": [
    "comic_name = 'DC'\n",
    "persona = 'Bat Man'\n",
    "point_num = 3"
   ]
  },
  {
   "cell_type": "code",
   "execution_count": 12,
   "metadata": {},
   "outputs": [],
   "source": [
    "template = ChatPromptTemplate(messages)"
   ]
  },
  {
   "cell_type": "code",
   "execution_count": 13,
   "metadata": {},
   "outputs": [],
   "source": [
    "chain = template | llm | StrOutputParser()"
   ]
  },
  {
   "cell_type": "code",
   "execution_count": 14,
   "metadata": {},
   "outputs": [
    {
     "name": "stdout",
     "output_type": "stream",
     "text": [
      "Here are three of the most important things to know about Batman:\n",
      "\n",
      "**1. Origin Story:** Batman's origin story is one of the most iconic in comic book history. Created by Bob Kane and Bill Finger, he first appeared in Detective Comics #27 in 1939. According to his origin story, Bruce Wayne was a young boy who witnessed his parents' murder in front of him. This traumatic event drove him to dedicate his life to fighting crime and protecting others from suffering the same fate.\n",
      "\n",
      "**2. The Bat-Signal:** One of Batman's most recognizable symbols is the Bat-Signal, a giant diamond-shaped signal light that shines brightly in the night sky. When activated, the signal summons Batman to respond to a crisis or emergency. This symbol has become an iconic part of Gotham City and is often referenced throughout popular culture.\n",
      "\n",
      "**3. GCPD and Alfred:** The Gotham City Police Department (GCPD) plays a significant role in Batman's life, with Commissioner James Gordon being one of his closest allies. He is often depicted as a straight-laced, by-the-book cop who works closely with Batman to keep the city safe. Alfred Pennyworth, Bruce Wayne's loyal butler and father figure, is another crucial character in Batman's life, providing him with emotional support and assistance on numerous occasions.\n",
      "\n",
      "These three points give you a solid foundation to understand one of the most complex and fascinating characters in comic book history!\n"
     ]
    }
   ],
   "source": [
    "response = chain.invoke({'comic_name':comic_name,'persona':persona,'point_num':point_num})\n",
    "\n",
    "print(response)"
   ]
  },
  {
   "cell_type": "code",
   "execution_count": null,
   "metadata": {},
   "outputs": [],
   "source": []
  }
 ],
 "metadata": {
  "kernelspec": {
   "display_name": "ml",
   "language": "python",
   "name": "python3"
  },
  "language_info": {
   "codemirror_mode": {
    "name": "ipython",
    "version": 3
   },
   "file_extension": ".py",
   "mimetype": "text/x-python",
   "name": "python",
   "nbconvert_exporter": "python",
   "pygments_lexer": "ipython3",
   "version": "3.12.4"
  }
 },
 "nbformat": 4,
 "nbformat_minor": 2
}
