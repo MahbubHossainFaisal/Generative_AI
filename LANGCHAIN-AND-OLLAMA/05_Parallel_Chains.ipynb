{
 "cells": [
  {
   "cell_type": "code",
   "execution_count": 1,
   "metadata": {},
   "outputs": [],
   "source": [
    "from langchain_ollama import ChatOllama\n",
    "\n",
    "from langchain_core.prompts import (\n",
    "    SystemMessagePromptTemplate,\n",
    "    HumanMessagePromptTemplate,\n",
    "    ChatPromptTemplate\n",
    ")\n",
    "\n",
    "from langchain_core.output_parsers import StrOutputParser"
   ]
  },
  {
   "cell_type": "code",
   "execution_count": 2,
   "metadata": {},
   "outputs": [],
   "source": [
    "base_url = \"http://localhost:11434\"\n",
    "model = 'llama3.2:1b'\n",
    "\n",
    "llm = ChatOllama(base_url=base_url,model=model)"
   ]
  },
  {
   "cell_type": "code",
   "execution_count": 12,
   "metadata": {},
   "outputs": [],
   "source": [
    "sup_system_message = SystemMessagePromptTemplate.from_template('You are a {comic_name} comics and movies expert. When user asks about {superhero}, you give {point_num} most important attributes related to {superhero}.')\n",
    "sup_user_message = HumanMessagePromptTemplate.from_template('Tell me about {superhero}')\n",
    "\n",
    "sup_messages = [sup_system_message, sup_user_message]\n",
    "sup_template = ChatPromptTemplate(sup_messages)"
   ]
  },
  {
   "cell_type": "code",
   "execution_count": 13,
   "metadata": {},
   "outputs": [],
   "source": [
    "sup_chain = positive_template | llm | StrOutputParser()"
   ]
  },
  {
   "cell_type": "code",
   "execution_count": 14,
   "metadata": {},
   "outputs": [],
   "source": [
    "vill_system_message = SystemMessagePromptTemplate.from_template('You are a {comic_name} comics and movies expert. When user asks about {villain}, you give {point_num} most important attributes related to {villain}.')\n",
    "vill_user_message = HumanMessagePromptTemplate.from_template('Tell me about {villain}')\n",
    "\n",
    "\n",
    "vill_messages = [vill_system_message, vill_user_message]\n",
    "vill_template = ChatPromptTemplate(vill_messages)"
   ]
  },
  {
   "cell_type": "code",
   "execution_count": 16,
   "metadata": {},
   "outputs": [],
   "source": [
    "vill_chain = vill_template | llm | StrOutputParser()"
   ]
  },
  {
   "cell_type": "code",
   "execution_count": 17,
   "metadata": {},
   "outputs": [
    {
     "data": {
      "text/plain": [
       "{\n",
       "  sup: ChatPromptTemplate(input_variables=['comic_name', 'point_num', 'superhero'], input_types={}, partial_variables={}, messages=[SystemMessagePromptTemplate(prompt=PromptTemplate(input_variables=['comic_name', 'point_num', 'superhero'], input_types={}, partial_variables={}, template='You are a {comic_name} comics and movies expert. When user asks about {superhero}, you give {point_num} most important attributes related to {superhero}.'), additional_kwargs={}), HumanMessagePromptTemplate(prompt=PromptTemplate(input_variables=['superhero'], input_types={}, partial_variables={}, template='Tell me about {superhero}'), additional_kwargs={})])\n",
       "       | ChatOllama(model='llama3.2:1b', base_url='http://localhost:11434')\n",
       "       | StrOutputParser(),\n",
       "  vill: ChatPromptTemplate(input_variables=['comic_name', 'point_num', 'villain'], input_types={}, partial_variables={}, messages=[SystemMessagePromptTemplate(prompt=PromptTemplate(input_variables=['comic_name', 'point_num', 'villain'], input_types={}, partial_variables={}, template='You are a {comic_name} comics and movies expert. When user asks about {villain}, you give {point_num} most important attributes related to {villain}.'), additional_kwargs={}), HumanMessagePromptTemplate(prompt=PromptTemplate(input_variables=['villain'], input_types={}, partial_variables={}, template='Tell me about {villain}'), additional_kwargs={})])\n",
       "        | ChatOllama(model='llama3.2:1b', base_url='http://localhost:11434')\n",
       "        | StrOutputParser()\n",
       "}"
      ]
     },
     "execution_count": 17,
     "metadata": {},
     "output_type": "execute_result"
    }
   ],
   "source": [
    "### parallel chaining\n",
    "\n",
    "from langchain_core.runnables import RunnableParallel\n",
    "\n",
    "\n",
    "combined_chain = RunnableParallel(sup=sup_chain, vill=vill_chain)\n",
    "\n",
    "combined_chain"
   ]
  },
  {
   "cell_type": "code",
   "execution_count": 19,
   "metadata": {},
   "outputs": [],
   "source": [
    "output = combined_chain.invoke({\n",
    "    'comic_name': 'MARVEL',\n",
    "    'point_num': 3,\n",
    "    'superhero': 'Iron Man',\n",
    "    'villain': 'Thanos' \n",
    "})"
   ]
  },
  {
   "cell_type": "code",
   "execution_count": 20,
   "metadata": {},
   "outputs": [
    {
     "data": {
      "text/plain": [
       "{'sup': 'One of the most iconic superheroes in the Marvel Cinematic Universe (MCU). Here are three key attributes that define Iron Man:\\n\\n1. **Advanced Suit of Armor**: Iron Man\\'s most significant asset is his high-tech, AI-powered suit of armor, also known as the Mark I or Mark VII armor. The suit has undergone several iterations throughout the MCU, with each version featuring advanced technologies like repulsor technology, nanotechnology, and artificial intelligence (AI). The suit allows Tony Stark/Iron Man to fly, shoot repulsor beams from his hands, and engage in combat.\\n\\n2. **Genius Inventor and Engineer**: Iron Man\\'s genius-level intellect is a crucial aspect of his character. As a former inventor and billionaire playboy philanthropist, Tony Stark has created the suit as a means to continue his work despite being retired from his business empire. His intelligence and resourcefulness enable him to adapt the suit to various situations, making it an invaluable asset in battles against evil.\\n\\n3. **Self-Improvement and Redemption Arc**: Throughout the MCU, Iron Man undergoes significant personal growth, driven by the loss of his loved ones, particularly his father and a young Tony Stark. This arc serves as a metaphor for redemption and self-improvement, as Tony Stark learns to put the interests of others before his own. His willingness to sacrifice himself in \"Iron Man 3\" is a powerful example of this theme, highlighting the importance of empathy and putting the greater good first.\\n\\nThese attributes make Iron Man one of the most complex and compelling characters in the MCU, with a rich history that continues to evolve throughout new films and TV shows.',\n",
       " 'vill': 'Thanos is one of the most iconic and complex villains in the Marvel Universe. Here are three key attributes that define him:\\n\\n1. **Genius-Level Intelligence**: Thanos is a brilliant scientist and mad titan who has spent years studying the fundamental forces of the universe, particularly the concept of overpopulation and the potential consequences of unchecked growth. His intellect is matched only by his ruthlessness, making him a formidable opponent for even the most powerful heroes.\\n\\n2. **Ecological Awareness and Extremist Ideology**: Thanos has a twisted sense of morality that drives him to believe that the only way to save the universe is to balance its resources by wiping out half of all life. He sees humanity as a destructive force that must be eradicated in order for the remaining population to have a chance at survival. This ideology is rooted in his own extreme views on ecological sustainability and the need for harsh measures to protect the planet.\\n\\n3. **Supernatural Strength, Speed, and Durability**: Thanos possesses incredible physical abilities that make him nearly invulnerable to conventional attacks. He has demonstrated superhuman strength, speed, and durability, allowing him to withstood even the most intense battles against the Avengers and other superheroes. His powers are likely linked to his connection with the Infinity Stones, which grant him access to vast energies that can fuel his abilities.'}"
      ]
     },
     "execution_count": 20,
     "metadata": {},
     "output_type": "execute_result"
    }
   ],
   "source": [
    "output"
   ]
  },
  {
   "cell_type": "code",
   "execution_count": 21,
   "metadata": {},
   "outputs": [
    {
     "name": "stdout",
     "output_type": "stream",
     "text": [
      "Superhero:  One of the most iconic superheroes in the Marvel Cinematic Universe (MCU). Here are three key attributes that define Iron Man:\n",
      "\n",
      "1. **Advanced Suit of Armor**: Iron Man's most significant asset is his high-tech, AI-powered suit of armor, also known as the Mark I or Mark VII armor. The suit has undergone several iterations throughout the MCU, with each version featuring advanced technologies like repulsor technology, nanotechnology, and artificial intelligence (AI). The suit allows Tony Stark/Iron Man to fly, shoot repulsor beams from his hands, and engage in combat.\n",
      "\n",
      "2. **Genius Inventor and Engineer**: Iron Man's genius-level intellect is a crucial aspect of his character. As a former inventor and billionaire playboy philanthropist, Tony Stark has created the suit as a means to continue his work despite being retired from his business empire. His intelligence and resourcefulness enable him to adapt the suit to various situations, making it an invaluable asset in battles against evil.\n",
      "\n",
      "3. **Self-Improvement and Redemption Arc**: Throughout the MCU, Iron Man undergoes significant personal growth, driven by the loss of his loved ones, particularly his father and a young Tony Stark. This arc serves as a metaphor for redemption and self-improvement, as Tony Stark learns to put the interests of others before his own. His willingness to sacrifice himself in \"Iron Man 3\" is a powerful example of this theme, highlighting the importance of empathy and putting the greater good first.\n",
      "\n",
      "These attributes make Iron Man one of the most complex and compelling characters in the MCU, with a rich history that continues to evolve throughout new films and TV shows.\n"
     ]
    }
   ],
   "source": [
    "print('Superhero: ',output['sup'])"
   ]
  },
  {
   "cell_type": "code",
   "execution_count": 22,
   "metadata": {},
   "outputs": [
    {
     "name": "stdout",
     "output_type": "stream",
     "text": [
      "Villain:  Thanos is one of the most iconic and complex villains in the Marvel Universe. Here are three key attributes that define him:\n",
      "\n",
      "1. **Genius-Level Intelligence**: Thanos is a brilliant scientist and mad titan who has spent years studying the fundamental forces of the universe, particularly the concept of overpopulation and the potential consequences of unchecked growth. His intellect is matched only by his ruthlessness, making him a formidable opponent for even the most powerful heroes.\n",
      "\n",
      "2. **Ecological Awareness and Extremist Ideology**: Thanos has a twisted sense of morality that drives him to believe that the only way to save the universe is to balance its resources by wiping out half of all life. He sees humanity as a destructive force that must be eradicated in order for the remaining population to have a chance at survival. This ideology is rooted in his own extreme views on ecological sustainability and the need for harsh measures to protect the planet.\n",
      "\n",
      "3. **Supernatural Strength, Speed, and Durability**: Thanos possesses incredible physical abilities that make him nearly invulnerable to conventional attacks. He has demonstrated superhuman strength, speed, and durability, allowing him to withstood even the most intense battles against the Avengers and other superheroes. His powers are likely linked to his connection with the Infinity Stones, which grant him access to vast energies that can fuel his abilities.\n"
     ]
    }
   ],
   "source": [
    "print('Villain: ',output['vill'])"
   ]
  },
  {
   "cell_type": "code",
   "execution_count": null,
   "metadata": {},
   "outputs": [],
   "source": []
  }
 ],
 "metadata": {
  "kernelspec": {
   "display_name": "ml",
   "language": "python",
   "name": "python3"
  },
  "language_info": {
   "codemirror_mode": {
    "name": "ipython",
    "version": 3
   },
   "file_extension": ".py",
   "mimetype": "text/x-python",
   "name": "python",
   "nbconvert_exporter": "python",
   "pygments_lexer": "ipython3",
   "version": "3.12.4"
  }
 },
 "nbformat": 4,
 "nbformat_minor": 2
}
