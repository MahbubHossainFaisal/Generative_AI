{
 "cells": [
  {
   "cell_type": "code",
   "execution_count": 1,
   "metadata": {},
   "outputs": [],
   "source": [
    "#### pip install langchain\n",
    "#### pip install langchain-ollama\n",
    "#### pip install python-dotenv\n",
    "\n",
    "from langchain_ollama import ChatOllama"
   ]
  },
  {
   "cell_type": "code",
   "execution_count": 2,
   "metadata": {},
   "outputs": [],
   "source": [
    "base_url = \"http://localhost:11434\"\n",
    "model = 'llama3.2:1b' \n",
    "\n",
    "llm = ChatOllama(\n",
    "    base_url = base_url,\n",
    "    model = model,\n",
    "    temperature = 0.8,\n",
    "    num_predict = 500\n",
    ")"
   ]
  },
  {
   "cell_type": "code",
   "execution_count": 4,
   "metadata": {},
   "outputs": [
    {
     "name": "stdout",
     "output_type": "stream",
     "text": [
      "Here's a short story for you:\n",
      "\n",
      "It was a dark and stormy night in New York City, and Spider-Man was patrolling the streets in his iconic red and blue suit. He had received a distress call from the police department about a mysterious figure terrorizing the city.\n",
      "\n",
      "As he swung through the concrete canyons, he heard a strange, pulsating noise coming from an abandoned warehouse on the waterfront. He burst through the doors, ready for action, and was met with a sight that made his blood run cold.\n",
      "\n",
      "Venom, the alien symbiote that had been bonded to Eddie Brock in a twisted game of cat and mouse, stood towering over the warehouse, its black and green tendrils writhing like living serpents. The air was thick with an otherworldly energy, and Spider-Man could feel the symbiote's malevolent presence washing over him.\n",
      "\n",
      "\"Venom!\" he shouted, charging towards his foe.\n",
      "\n",
      "The symbiote let out a deafening scream as Spider-Man approached, its tendrils snapping wildly. \"You'll never stop me, Spider-Man!\" it hissed, its voice like a venom-filled dart.\n",
      "\n",
      "Without hesitation, Venom lashed out at the web-slinger with a blast of toxic acid that sent him stumbling back. But Spider-Man refused to give up. Using his agility and quick reflexes, he dodged the attack and counterattacked with a barrage of webs that ensnared Venom's tendrils.\n",
      "\n",
      "The symbiote howled in pain as Spider-Man pulled it back, its energy draining from its body. For a moment, they locked eyes, the two enemies sizing each other up.\n",
      "\n",
      "\"You may have power,\" Venom snarled, \"but I have something you'll never have: my strength.\"\n",
      "\n",
      "Spider-Man grinned, his eyes sparkling with determination. \"We'll see about that, buddy.\"\n",
      "\n",
      "With a burst of speed, he leapt onto Venom's back and used his agility to dodge its snapping tendrils. He wrapped his arms around the symbiote's neck, holding it in place as he delivered a series of expertly timed punches.\n",
      "\n",
      "Venom let out a deafening roar as Spider-Man pinned it to the ground, its energy finally sapped away by the web-slinger's relentless assault. As Venom dissipated into nothingness, its remains sloughing off into the darkness, Spider-Man stood victorious but shaken.\n",
      "\n",
      "\"Well, that was fun,\" he said, wiping the sweat from his brow.\n",
      "\n",
      "\n"
     ]
    }
   ],
   "source": [
    "result = llm.invoke('Hi. Can you tell me a short story of spiderman fighting venom')\n",
    "print(result.content)"
   ]
  },
  {
   "cell_type": "markdown",
   "metadata": {},
   "source": []
  }
 ],
 "metadata": {
  "kernelspec": {
   "display_name": "ml",
   "language": "python",
   "name": "python3"
  },
  "language_info": {
   "codemirror_mode": {
    "name": "ipython",
    "version": 3
   },
   "file_extension": ".py",
   "mimetype": "text/x-python",
   "name": "python",
   "nbconvert_exporter": "python",
   "pygments_lexer": "ipython3",
   "version": "3.12.4"
  }
 },
 "nbformat": 4,
 "nbformat_minor": 2
}
