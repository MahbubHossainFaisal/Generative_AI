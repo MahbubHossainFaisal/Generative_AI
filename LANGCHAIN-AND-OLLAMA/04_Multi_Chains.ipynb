{
 "cells": [
  {
   "cell_type": "code",
   "execution_count": 1,
   "metadata": {},
   "outputs": [],
   "source": [
    "from langchain_ollama import ChatOllama\n",
    "\n",
    "from langchain_core.prompts import (\n",
    "    SystemMessagePromptTemplate,\n",
    "    HumanMessagePromptTemplate,\n",
    "    ChatPromptTemplate\n",
    ")\n",
    "\n",
    "from langchain_core.output_parsers import StrOutputParser"
   ]
  },
  {
   "cell_type": "code",
   "execution_count": 2,
   "metadata": {},
   "outputs": [],
   "source": [
    "base_url = \"http://localhost:11434\"\n",
    "model = 'llama3.2:1b'\n",
    "\n",
    "llm = ChatOllama(base_url=base_url,model=model)"
   ]
  },
  {
   "cell_type": "code",
   "execution_count": 3,
   "metadata": {},
   "outputs": [],
   "source": [
    "system_message = SystemMessagePromptTemplate.from_template('You are a {comic_name} comics and movies expert. When user asks about {persona}, you give {point_num} most important information related to {persona}.')\n",
    "user_message = HumanMessagePromptTemplate.from_template('Tell me about {persona}')\n",
    "\n",
    "messages = [system_message, user_message]"
   ]
  },
  {
   "cell_type": "code",
   "execution_count": 4,
   "metadata": {},
   "outputs": [],
   "source": [
    "comic_name = 'DC'\n",
    "persona = 'Bat Man'\n",
    "point_num = 3"
   ]
  },
  {
   "cell_type": "code",
   "execution_count": 5,
   "metadata": {},
   "outputs": [],
   "source": [
    "template = ChatPromptTemplate(messages)"
   ]
  },
  {
   "cell_type": "code",
   "execution_count": 7,
   "metadata": {},
   "outputs": [],
   "source": [
    "chain1 = template | llm | StrOutputParser()"
   ]
  },
  {
   "cell_type": "code",
   "execution_count": 20,
   "metadata": {},
   "outputs": [],
   "source": [
    "analysis_message =  ChatPromptTemplate.from_template(''' You are an expert in Marvel and DC comic/movies. You have to analysis this {text}.\n",
    "After analysis tell me how good or bad the character intro is. Please provide the answer in one line of sentence.\n",
    " ''')\n",
    "\n"
   ]
  },
  {
   "cell_type": "code",
   "execution_count": 22,
   "metadata": {},
   "outputs": [
    {
     "data": {
      "text/plain": [
       "{\n",
       "  text: ChatPromptTemplate(input_variables=['comic_name', 'persona', 'point_num'], input_types={}, partial_variables={}, messages=[SystemMessagePromptTemplate(prompt=PromptTemplate(input_variables=['comic_name', 'persona', 'point_num'], input_types={}, partial_variables={}, template='You are a {comic_name} comics and movies expert. When user asks about {persona}, you give {point_num} most important information related to {persona}.'), additional_kwargs={}), HumanMessagePromptTemplate(prompt=PromptTemplate(input_variables=['persona'], input_types={}, partial_variables={}, template='Tell me about {persona}'), additional_kwargs={})])\n",
       "        | ChatOllama(model='llama3.2:1b', base_url='http://localhost:11434')\n",
       "        | StrOutputParser()\n",
       "}\n",
       "| ChatPromptTemplate(input_variables=['text'], input_types={}, partial_variables={}, messages=[HumanMessagePromptTemplate(prompt=PromptTemplate(input_variables=['text'], input_types={}, partial_variables={}, template=' You are an expert in Marvel and DC comic/movies. You have to analysis this {text}.\\nAfter analysis tell me how good or bad the character intro is. Please provide the answer in one line of sentence.\\n '), additional_kwargs={})])\n",
       "| ChatOllama(model='llama3.2:1b', base_url='http://localhost:11434')\n",
       "| StrOutputParser()"
      ]
     },
     "execution_count": 22,
     "metadata": {},
     "output_type": "execute_result"
    }
   ],
   "source": [
    "chain2 = {\"text\":chain1} | analysis_message | llm | StrOutputParser()\n",
    "\n",
    "chain2"
   ]
  },
  {
   "cell_type": "code",
   "execution_count": 23,
   "metadata": {},
   "outputs": [
    {
     "name": "stdout",
     "output_type": "stream",
     "text": [
      "The Batman introduction is generally considered effective in conveying the character's essence, tone, and complexity through a concise and impactful setup that effectively sets up his dark and brooding persona.\n"
     ]
    }
   ],
   "source": [
    "output = chain2.invoke({'comic_name':comic_name,'persona':persona,'point_num':point_num})\n",
    "print(output)"
   ]
  },
  {
   "cell_type": "code",
   "execution_count": null,
   "metadata": {},
   "outputs": [],
   "source": []
  }
 ],
 "metadata": {
  "kernelspec": {
   "display_name": "ml",
   "language": "python",
   "name": "python3"
  },
  "language_info": {
   "codemirror_mode": {
    "name": "ipython",
    "version": 3
   },
   "file_extension": ".py",
   "mimetype": "text/x-python",
   "name": "python",
   "nbconvert_exporter": "python",
   "pygments_lexer": "ipython3",
   "version": "3.12.4"
  }
 },
 "nbformat": 4,
 "nbformat_minor": 2
}
