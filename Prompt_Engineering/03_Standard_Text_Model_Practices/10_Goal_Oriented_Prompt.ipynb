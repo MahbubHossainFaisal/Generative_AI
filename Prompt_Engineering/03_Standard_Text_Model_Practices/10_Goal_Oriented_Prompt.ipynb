{
 "cells": [
  {
   "cell_type": "markdown",
   "id": "5c8136c4",
   "metadata": {},
   "source": [
    "\n",
    "## **2. Agent Model: Goal-Oriented Prompting**  \n",
    "**Task**: *Create a numerical, hierarchical plan for fitness, health, and wealth.*  \n",
    "\n",
    "### **Effective Strategy**  \n",
    "- **Break Goals into Subsystems**:  \n",
    "  - **Fitness**: Exercise, nutrition, recovery  \n",
    "  - **Health**: Mental, physical, emotional  \n",
    "  - **Wealth**: Income, savings, investments  \n",
    "\n",
    "### **Example Outline**  \n",
    "**1. Fitness**  \n",
    "1.1 **Strength Training**  \n",
    "- 4 sessions/week (Mon/Wed/Fri/Sat)  \n",
    "- Target: 5% strength gain/month (tracked via 1RM)  \n",
    "1.2 **Cardio**  \n",
    "- 150 mins/week moderate intensity (e.g., 30 mins x 5 days)  \n",
    "\n",
    "**2. Health**  \n",
    "2.1 **Nutrition**  \n",
    "- Macronutrient split: 40% protein, 30% carbs, 30% fats  \n",
    "- 2L water/day  \n",
    "\n",
    "**3. Wealth**  \n",
    "3.1 **Income Growth**  \n",
    "- Upskill 5 hrs/week (e.g., coding courses)  \n",
    "- Negotiate 10% salary raise within 6 months  \n",
    "\n",
    "### **Why This Works**  \n",
    "- **Numerical Precision**: Quantifiable targets (e.g., 150 mins/week).  \n",
    "- **Hierarchy**: Goals → Subgoals → Actions.  \n"
   ]
  },
  {
   "cell_type": "code",
   "execution_count": null,
   "id": "7fa830a1",
   "metadata": {},
   "outputs": [],
   "source": []
  }
 ],
 "metadata": {
  "kernelspec": {
   "display_name": "Python 3 (ipykernel)",
   "language": "python",
   "name": "python3"
  },
  "language_info": {
   "codemirror_mode": {
    "name": "ipython",
    "version": 3
   },
   "file_extension": ".py",
   "mimetype": "text/x-python",
   "name": "python",
   "nbconvert_exporter": "python",
   "pygments_lexer": "ipython3",
   "version": "3.9.13"
  }
 },
 "nbformat": 4,
 "nbformat_minor": 5
}
