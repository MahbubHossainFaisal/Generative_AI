{
 "cells": [
  {
   "cell_type": "markdown",
   "id": "c191fda7",
   "metadata": {},
   "source": [
    "---\n",
    "\n",
    "## **2.1 Context Gathering for Personalization**  \n",
    "**Task**: *Ask questions to refine the goal outline.*  \n",
    "\n",
    "### **Critical Questions**  \n",
    "**Fitness**:  \n",
    "- What’s your current fitness level? (Beginner/Intermediate/Advanced)  \n",
    "- Do you have equipment access? (Gym/home/none)  \n",
    "\n",
    "**Health**:  \n",
    "- Any dietary restrictions? (Vegan/gluten-free/etc.)  \n",
    "- Sleep patterns? (Avg. hours/night)  \n",
    "\n",
    "**Wealth**:  \n",
    "- Current savings rate? (% of income)  \n",
    "- Risk tolerance for investments? (Low/Medium/High)  \n",
    "\n",
    "### **Template**  \n",
    "```  \n",
    "To personalize your plan, answer these:  \n",
    "1. [Fitness] [Question about current habits]  \n",
    "2. [Health] [Question about constraints]  \n",
    "3. [Wealth] [Question about financial priorities]  \n",
    "```  \n",
    "\n"
   ]
  },
  {
   "cell_type": "code",
   "execution_count": null,
   "id": "60e292c3",
   "metadata": {},
   "outputs": [],
   "source": []
  }
 ],
 "metadata": {
  "kernelspec": {
   "display_name": "Python 3 (ipykernel)",
   "language": "python",
   "name": "python3"
  },
  "language_info": {
   "codemirror_mode": {
    "name": "ipython",
    "version": 3
   },
   "file_extension": ".py",
   "mimetype": "text/x-python",
   "name": "python",
   "nbconvert_exporter": "python",
   "pygments_lexer": "ipython3",
   "version": "3.9.13"
  }
 },
 "nbformat": 4,
 "nbformat_minor": 5
}
