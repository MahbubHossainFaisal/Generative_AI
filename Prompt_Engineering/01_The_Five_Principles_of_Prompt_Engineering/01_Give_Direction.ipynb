{
 "cells": [
  {
   "cell_type": "markdown",
   "id": "ca2ee016",
   "metadata": {},
   "source": [
    "### Describe the desired style in detail or reference a relevant persona"
   ]
  },
  {
   "cell_type": "code",
   "execution_count": 1,
   "id": "8a79d4ce",
   "metadata": {},
   "outputs": [],
   "source": [
    "prompt_template = '''\n",
    "\n",
    "Brainstorm a list of product names for a {product_description}, in the style of {famous_inventor}.\n",
    "\n",
    "Return the results as a comma seperated list, in this format:\n",
    "Product description: A shoe that fits any foot size\n",
    "Product names: [list of 3 product names]\n",
    "\n",
    "## Examples\n",
    "{product_examples}\n",
    "\n",
    "-------------------------------------------\n",
    "\n",
    "Please rate the product names based on their catchiness, uniqueness, and simplicity. Rate them on a scale from 1-5, with 5 being\n",
    "the highest score. Respond only with a table containing the results.\n",
    "\n",
    "'''"
   ]
  },
  {
   "cell_type": "markdown",
   "id": "18d47f4c",
   "metadata": {},
   "source": [
    "In the above prompt -> **in the style of {famous_inventor}** is giving a direction"
   ]
  },
  {
   "cell_type": "code",
   "execution_count": 3,
   "id": "473c3cc9",
   "metadata": {},
   "outputs": [],
   "source": [
    "Prompt_image_template = '''\n",
    "\n",
    "{product_type}, {style_details}, designed by {artist}. product photography,\n",
    "extremely detailed, studio lighting, 3 5 mm, dslr.\n",
    "\n",
    "'''"
   ]
  },
  {
   "cell_type": "markdown",
   "id": "0e8e064a",
   "metadata": {},
   "source": [
    "if we need a proper detailed picture generation the, we have to describe the desired style in detail, or reference a relevant persona. Example can be something like this."
   ]
  },
  {
   "cell_type": "code",
   "execution_count": null,
   "id": "1fdfd0e8",
   "metadata": {},
   "outputs": [],
   "source": [
    "Prompt = '''\n",
    "\n",
    "Neon pink and blue sneakers, intricate demonic, scary, beautiful, platemail armor, sleek iridescent details, designed by ridley\n",
    "scott alien. Product photography, extremely detailed, studio lighting, 3 5 mm, dslr\n",
    "\n",
    "'''"
   ]
  }
 ],
 "metadata": {
  "kernelspec": {
   "display_name": "Python 3 (ipykernel)",
   "language": "python",
   "name": "python3"
  },
  "language_info": {
   "codemirror_mode": {
    "name": "ipython",
    "version": 3
   },
   "file_extension": ".py",
   "mimetype": "text/x-python",
   "name": "python",
   "nbconvert_exporter": "python",
   "pygments_lexer": "ipython3",
   "version": "3.9.13"
  }
 },
 "nbformat": 4,
 "nbformat_minor": 5
}
