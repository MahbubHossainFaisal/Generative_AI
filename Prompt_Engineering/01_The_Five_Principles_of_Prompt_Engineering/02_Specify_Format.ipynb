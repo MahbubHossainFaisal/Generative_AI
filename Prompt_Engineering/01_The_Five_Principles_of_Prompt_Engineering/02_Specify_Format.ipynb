{
 "cells": [
  {
   "cell_type": "markdown",
   "id": "a7ab2747",
   "metadata": {},
   "source": [
    "### Define what rules to follow and the required structure of the response"
   ]
  },
  {
   "cell_type": "code",
   "execution_count": 1,
   "id": "6fc390a2",
   "metadata": {},
   "outputs": [],
   "source": [
    "prompt_template = '''\n",
    "\n",
    "Brainstorm a list of product names for a {product_description}, in the style of {famous_inventor}.\n",
    "\n",
    "Return the results as a comma seperated list, in this format:\n",
    "Product description: A shoe that fits any foot size\n",
    "Product names: [list of 3 product names]\n",
    "\n",
    "## Examples\n",
    "{product_examples}\n",
    "\n",
    "-------------------------------------------\n",
    "\n",
    "Please rate the product names based on their catchiness, uniqueness, and simplicity. Rate them on a scale from 1-5, with 5 being\n",
    "the highest score. Respond only with a table containing the results.\n",
    "\n",
    "'''"
   ]
  },
  {
   "cell_type": "markdown",
   "id": "d0a5e0c1",
   "metadata": {},
   "source": [
    "In the above prompt -> **comma seperated list** is specifying a format."
   ]
  },
  {
   "cell_type": "markdown",
   "id": "37614fbc",
   "metadata": {},
   "source": [
    "Instead of comma seperated list, we could also mention:\n",
    "    \n",
    "    - Numbered list\n",
    "    - JSON\n",
    "    - YAML\n",
    "    \n",
    "that is totally depending on our expectation."
   ]
  },
  {
   "cell_type": "code",
   "execution_count": 3,
   "id": "84dcd1f3",
   "metadata": {},
   "outputs": [],
   "source": [
    "Prompt_image_template = '''\n",
    "\n",
    "{product_type}, {style_details}, designed by {artist}. product photography,\n",
    "extremely detailed, studio lighting, 3 5 mm, dslr.\n",
    "\n",
    "'''"
   ]
  },
  {
   "cell_type": "markdown",
   "id": "d09484a5",
   "metadata": {},
   "source": [
    "In the above prompt -> **product photography, extremely detailed, studio lighting, 3 5 mm, dslr.**\n",
    "is specifying a format.\n",
    "\n",
    "We could have specified other things as well depends on our need. Like instead of saying **product photography**, we could mention that:\n",
    "\n",
    "    - Model shoot\n",
    "    - Streetwear\n",
    "    - Vogue Magazine"
   ]
  },
  {
   "cell_type": "code",
   "execution_count": null,
   "id": "b260bdcf",
   "metadata": {},
   "outputs": [],
   "source": []
  }
 ],
 "metadata": {
  "kernelspec": {
   "display_name": "Python 3 (ipykernel)",
   "language": "python",
   "name": "python3"
  },
  "language_info": {
   "codemirror_mode": {
    "name": "ipython",
    "version": 3
   },
   "file_extension": ".py",
   "mimetype": "text/x-python",
   "name": "python",
   "nbconvert_exporter": "python",
   "pygments_lexer": "ipython3",
   "version": "3.9.13"
  }
 },
 "nbformat": 4,
 "nbformat_minor": 5
}
