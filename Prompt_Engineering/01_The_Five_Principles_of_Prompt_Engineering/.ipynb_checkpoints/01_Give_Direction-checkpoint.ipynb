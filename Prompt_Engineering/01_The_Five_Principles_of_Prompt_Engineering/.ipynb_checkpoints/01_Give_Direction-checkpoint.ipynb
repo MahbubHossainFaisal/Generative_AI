{
 "cells": [
  {
   "cell_type": "markdown",
   "id": "ca2ee016",
   "metadata": {},
   "source": [
    "### Describe the desired style in detail or reference a relevant persona"
   ]
  },
  {
   "cell_type": "markdown",
   "id": "b2ae874d",
   "metadata": {},
   "source": [
    "### **Why \"Give Direction\" Matters**  \n",
    "Without clear direction, AI models (like ChatGPT) default to guessing your intent, often leading to generic, irrelevant, or overly verbose responses. A well-directed prompt:  \n",
    "- **Reduces ambiguity** → The AI understands exactly what you want.  \n",
    "- **Improves accuracy** → Less risk of off-topic or incorrect answers.  \n",
    "- **Saves time** → Fewer iterations needed to refine the output.  \n",
    "\n",
    "---\n",
    "\n",
    "### **How to Apply \"Give Direction\"**  \n",
    "#### **1. Be Specific About the Task**  \n",
    "- **Weak Prompt:** *\"Tell me about photosynthesis.\"*  \n",
    "  (Too broad—is this for a 5th grader or a PhD thesis?)  \n",
    "- **Strong Prompt:**  \n",
    "  *\"Explain the light-dependent reactions of photosynthesis in 3 simple steps for a high school biology student.\"*  \n",
    "\n",
    "#### **2. State the Desired Format**  \n",
    "- **Weak Prompt:** *\"List programming languages.\"*  \n",
    "- **Strong Prompt:**  \n",
    "  *\"Rank the top 5 programming languages for web development in 2024 as a numbered list, with one sentence per language.\"*  \n",
    "\n",
    "#### **3. Define the Role or Perspective**  \n",
    "- **Weak Prompt:** *\"How should I invest money?\"*  \n",
    "- **Strong Prompt:**  \n",
    "  *\"As a conservative investor with a 10-year horizon, suggest a low-risk portfolio allocation (e.g., stocks/bonds/cash) and justify each choice.\"*  \n",
    "\n",
    "#### **4. Include Constraints**  \n",
    "- **Weak Prompt:** *\"Write a poem.\"*  \n",
    "- **Strong Prompt:**  \n",
    "  *\"Write a 4-line haiku about autumn, using the words 'crisp,' 'leaves,' and 'golden.'\"*  \n",
    "\n",
    "#### **5. Clarify the Depth or Complexity**  \n",
    "- **Weak Prompt:** *\"What’s blockchain?\"*  \n",
    "- **Strong Prompt:**  \n",
    "  *\"Explain blockchain like I’m 10 years old, using an analogy.\"*  \n",
    "  OR  \n",
    "  *\"Detail how blockchain’s consensus mechanism works, comparing Proof of Work vs. Proof of Stake.\"*  \n",
    "\n",
    "---\n",
    "\n",
    "### **Common Pitfalls to Avoid**  \n",
    "- **Assumed Context:** Don’t assume the AI knows your goal.  \n",
    "  - ❌ *\"Fix this code.\"* (What’s the error? What language?)  \n",
    "  - ✅ *\"Debug this Python function that fails with 'IndexError: list out of range.' Here’s the code: [paste code].\"*  \n",
    "- **Overloading the Prompt:** Avoid cramming multiple asks into one.  \n",
    "  - ❌ *\"Explain quantum computing, its applications, and compare it to classical computing—also list companies using it.\"*  \n",
    "  - ✅ Break into separate prompts or use:  \n",
    "    *\"First, explain quantum computing in simple terms. Then, list its top 3 applications.\"*  \n",
    "\n",
    "---\n",
    "\n",
    "### **Real-World Analogy**  \n",
    "Think of prompting like giving GPS directions:  \n",
    "- **Vague:** *\"Drive somewhere nice.\"* → The AI takes you to a random park.  \n",
    "- **Directed:** *\"Navigate to the closest beach with parking, avoiding toll roads.\"* → Precise, actionable result.  \n",
    "\n",
    "---\n",
    "\n",
    "### **Key Takeaway**  \n",
    "**\"Give Direction\" = Specificity + Intent + Constraints.**  \n",
    "The more precisely you frame the task, the better the AI delivers. Try revising your own prompts with these rules—you’ll see immediate improvements!  "
   ]
  },
  {
   "cell_type": "code",
   "execution_count": 1,
   "id": "8a79d4ce",
   "metadata": {},
   "outputs": [],
   "source": [
    "prompt_template = '''\n",
    "\n",
    "Brainstorm a list of product names for a {product_description}, in the style of {famous_inventor}.\n",
    "\n",
    "Return the results as a comma seperated list, in this format:\n",
    "Product description: A shoe that fits any foot size\n",
    "Product names: [list of 3 product names]\n",
    "\n",
    "## Examples\n",
    "{product_examples}\n",
    "\n",
    "-------------------------------------------\n",
    "\n",
    "Please rate the product names based on their catchiness, uniqueness, and simplicity. Rate them on a scale from 1-5, with 5 being\n",
    "the highest score. Respond only with a table containing the results.\n",
    "\n",
    "'''"
   ]
  },
  {
   "cell_type": "markdown",
   "id": "18d47f4c",
   "metadata": {},
   "source": [
    "In the above prompt -> **in the style of {famous_inventor}** is giving a direction"
   ]
  },
  {
   "cell_type": "code",
   "execution_count": 3,
   "id": "473c3cc9",
   "metadata": {},
   "outputs": [],
   "source": [
    "Prompt_image_template = '''\n",
    "\n",
    "{product_type}, {style_details}, designed by {artist}. product photography,\n",
    "extremely detailed, studio lighting, 3 5 mm, dslr.\n",
    "\n",
    "'''"
   ]
  },
  {
   "cell_type": "markdown",
   "id": "0e8e064a",
   "metadata": {},
   "source": [
    "if we need a proper detailed picture generation the, we have to describe the desired style in detail, or reference a relevant persona. Example can be something like this."
   ]
  },
  {
   "cell_type": "code",
   "execution_count": null,
   "id": "1fdfd0e8",
   "metadata": {},
   "outputs": [],
   "source": [
    "Prompt = '''\n",
    "\n",
    "Neon pink and blue sneakers, intricate demonic, scary, beautiful, platemail armor, sleek iridescent details, designed by ridley\n",
    "scott alien. Product photography, extremely detailed, studio lighting, 3 5 mm, dslr\n",
    "\n",
    "'''"
   ]
  }
 ],
 "metadata": {
  "kernelspec": {
   "display_name": "Python 3 (ipykernel)",
   "language": "python",
   "name": "python3"
  },
  "language_info": {
   "codemirror_mode": {
    "name": "ipython",
    "version": 3
   },
   "file_extension": ".py",
   "mimetype": "text/x-python",
   "name": "python",
   "nbconvert_exporter": "python",
   "pygments_lexer": "ipython3",
   "version": "3.9.13"
  }
 },
 "nbformat": 4,
 "nbformat_minor": 5
}
