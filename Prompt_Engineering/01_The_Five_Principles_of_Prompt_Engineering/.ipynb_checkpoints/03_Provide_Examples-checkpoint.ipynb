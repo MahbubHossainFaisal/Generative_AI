{
 "cells": [
  {
   "cell_type": "markdown",
   "id": "fdfc9d08",
   "metadata": {},
   "source": [
    "### Insert a diverse set of test cases where the task was done correctly"
   ]
  },
  {
   "cell_type": "code",
   "execution_count": 1,
   "id": "ddfc6d7f",
   "metadata": {},
   "outputs": [],
   "source": [
    "prompt_template = '''\n",
    "\n",
    "Brainstorm a list of product names for a {product_description}, in the style of {famous_inventor}.\n",
    "\n",
    "Return the results as a comma seperated list, in this format:\n",
    "Product description: A shoe that fits any foot size\n",
    "Product names: [list of 3 product names]\n",
    "\n",
    "## Examples\n",
    "{product_examples}\n",
    "\n",
    "-------------------------------------------\n",
    "\n",
    "Please rate the product names based on their catchiness, uniqueness, and simplicity. Rate them on a scale from 1-5, with 5 being\n",
    "the highest score. Respond only with a table containing the results.\n",
    "\n",
    "'''"
   ]
  },
  {
   "cell_type": "markdown",
   "id": "105a3b53",
   "metadata": {},
   "source": [
    "Here we can provide examples like:\n",
    "    \n",
    "    ## Examples\n",
    "    Product description: A refrigerator that dispenses beer\n",
    "    Product names: iBarFridge, iFridgeBeer, iDrinkBeerFridge\n",
    "\n",
    "We have to be smart while giving examples. as our llm will behave in the same way while generating respone. Like here above we have used i as a prefix for every example. So LLm will try to mimic the same. If we don't want it and expect diverse example, then we need to be concious regarding our example values"
   ]
  },
  {
   "cell_type": "markdown",
   "id": "cf02e2f1",
   "metadata": {},
   "source": [
    "For image prompts we can provide example of images."
   ]
  },
  {
   "cell_type": "code",
   "execution_count": null,
   "id": "85255a60",
   "metadata": {},
   "outputs": [],
   "source": []
  }
 ],
 "metadata": {
  "kernelspec": {
   "display_name": "Python 3 (ipykernel)",
   "language": "python",
   "name": "python3"
  },
  "language_info": {
   "codemirror_mode": {
    "name": "ipython",
    "version": 3
   },
   "file_extension": ".py",
   "mimetype": "text/x-python",
   "name": "python",
   "nbconvert_exporter": "python",
   "pygments_lexer": "ipython3",
   "version": "3.9.13"
  }
 },
 "nbformat": 4,
 "nbformat_minor": 5
}
